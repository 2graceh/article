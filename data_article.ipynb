{
 "cells": [
  {
   "cell_type": "markdown",
   "id": "a845d8d3-7075-402a-a210-66c7169be8ae",
   "metadata": {},
   "source": [
    "First, let's begin with importing some packages. All of what I will be going through this evening can be done with only these two packages- numpy and pandas. "
   ]
  },
  {
   "cell_type": "code",
   "execution_count": 67,
   "id": "bab03da6-27e3-4c6b-9e03-f2c7ac390786",
   "metadata": {},
   "outputs": [],
   "source": [
    "import pandas as pd\n",
    "import numpy as np"
   ]
  },
  {
   "cell_type": "code",
   "execution_count": null,
   "id": "109462d9-8c1d-407e-ac06-0b8078545280",
   "metadata": {},
   "outputs": [],
   "source": []
  },
  {
   "cell_type": "code",
   "execution_count": 37,
   "id": "b9111f3d-9ab5-4775-a0d9-afbe895e06ab",
   "metadata": {},
   "outputs": [],
   "source": [
    "from warnings import simplefilter"
   ]
  },
  {
   "cell_type": "code",
   "execution_count": 38,
   "id": "87f22212-cb0c-42eb-bbee-e099e316b8d6",
   "metadata": {},
   "outputs": [
    {
     "data": {
      "text/html": [
       "<div>\n",
       "<style scoped>\n",
       "    .dataframe tbody tr th:only-of-type {\n",
       "        vertical-align: middle;\n",
       "    }\n",
       "\n",
       "    .dataframe tbody tr th {\n",
       "        vertical-align: top;\n",
       "    }\n",
       "\n",
       "    .dataframe thead th {\n",
       "        text-align: right;\n",
       "    }\n",
       "</style>\n",
       "<table border=\"1\" class=\"dataframe\">\n",
       "  <thead>\n",
       "    <tr style=\"text-align: right;\">\n",
       "      <th></th>\n",
       "      <th>participant_id</th>\n",
       "      <th>first_name</th>\n",
       "      <th>last_name</th>\n",
       "      <th>email</th>\n",
       "      <th>gender</th>\n",
       "      <th>movie</th>\n",
       "      <th>genre</th>\n",
       "    </tr>\n",
       "  </thead>\n",
       "  <tbody>\n",
       "    <tr>\n",
       "      <th>0</th>\n",
       "      <td>1</td>\n",
       "      <td>Vernen</td>\n",
       "      <td>NaN</td>\n",
       "      <td>NaN</td>\n",
       "      <td>Male</td>\n",
       "      <td>Blue Steel</td>\n",
       "      <td>Action|Thriller</td>\n",
       "    </tr>\n",
       "    <tr>\n",
       "      <th>1</th>\n",
       "      <td>2</td>\n",
       "      <td>Dulsea</td>\n",
       "      <td>NaN</td>\n",
       "      <td>dcolvill1@tripadvisor.com</td>\n",
       "      <td>NaN</td>\n",
       "      <td>Around the World in 80 Days</td>\n",
       "      <td>Adventure|Children|Comedy</td>\n",
       "    </tr>\n",
       "    <tr>\n",
       "      <th>2</th>\n",
       "      <td>3</td>\n",
       "      <td>Kirby</td>\n",
       "      <td>Etteridge</td>\n",
       "      <td>NaN</td>\n",
       "      <td>Male</td>\n",
       "      <td>Toronto Stories</td>\n",
       "      <td>Drama</td>\n",
       "    </tr>\n",
       "    <tr>\n",
       "      <th>3</th>\n",
       "      <td>4</td>\n",
       "      <td>Ulrike</td>\n",
       "      <td>Sailor</td>\n",
       "      <td>usailor3@prweb.com</td>\n",
       "      <td>Female</td>\n",
       "      <td>Miral</td>\n",
       "      <td>Drama</td>\n",
       "    </tr>\n",
       "    <tr>\n",
       "      <th>4</th>\n",
       "      <td>5</td>\n",
       "      <td>Allayne</td>\n",
       "      <td>Kingston</td>\n",
       "      <td>akingston4@opera.com</td>\n",
       "      <td>Female</td>\n",
       "      <td>Inquisitor, The (a.k.a. Under Suspicion) (Gard...</td>\n",
       "      <td>Crime|Drama</td>\n",
       "    </tr>\n",
       "  </tbody>\n",
       "</table>\n",
       "</div>"
      ],
      "text/plain": [
       "   participant_id first_name  last_name                      email  gender  \\\n",
       "0               1     Vernen        NaN                        NaN    Male   \n",
       "1               2     Dulsea        NaN  dcolvill1@tripadvisor.com     NaN   \n",
       "2               3      Kirby  Etteridge                        NaN    Male   \n",
       "3               4     Ulrike     Sailor         usailor3@prweb.com  Female   \n",
       "4               5    Allayne   Kingston       akingston4@opera.com  Female   \n",
       "\n",
       "                                               movie  \\\n",
       "0                                         Blue Steel   \n",
       "1                        Around the World in 80 Days   \n",
       "2                                    Toronto Stories   \n",
       "3                                              Miral   \n",
       "4  Inquisitor, The (a.k.a. Under Suspicion) (Gard...   \n",
       "\n",
       "                       genre  \n",
       "0            Action|Thriller  \n",
       "1  Adventure|Children|Comedy  \n",
       "2                      Drama  \n",
       "3                      Drama  \n",
       "4                Crime|Drama  "
      ]
     },
     "execution_count": 38,
     "metadata": {},
     "output_type": "execute_result"
    }
   ],
   "source": [
    "survey_results = pd.read_csv(\"movie_survey.csv\")\n",
    "survey_results .head()"
   ]
  },
  {
   "cell_type": "code",
   "execution_count": 39,
   "id": "7b69ae99-a722-4be2-a4db-3227cfb30ce9",
   "metadata": {},
   "outputs": [
    {
     "name": "stdout",
     "output_type": "stream",
     "text": [
      "There are 1001 rows in this data table.\n"
     ]
    }
   ],
   "source": [
    "num_rows = 0\n",
    "for row in open(\"movie_survey.csv\"):\n",
    "    num_rows += 1\n",
    "\n",
    "print(\"There are\",num_rows,\"rows in this data table.\") "
   ]
  },
  {
   "cell_type": "code",
   "execution_count": 40,
   "id": "89e8c1e8-4aa9-4423-96ec-fb7bde559bc8",
   "metadata": {},
   "outputs": [
    {
     "name": "stdout",
     "output_type": "stream",
     "text": [
      "The number of rows that have some information missing is: 693\n"
     ]
    }
   ],
   "source": [
    "survey_results .isnull().T.any().T.sum()\n",
    "print(\"The number of rows that have some information missing is:\",survey_results.isnull().T.any().T.sum())"
   ]
  },
  {
   "cell_type": "code",
   "execution_count": 41,
   "id": "acc819d6-b3cd-432d-a5fa-42ec2150406e",
   "metadata": {},
   "outputs": [
    {
     "name": "stdout",
     "output_type": "stream",
     "text": [
      "That's 69.23076923076923 percent of the rows in this dataset that is missing information\n"
     ]
    }
   ],
   "source": [
    "decimal = ((survey_results .isnull().T.any().T.sum())/num_rows)\n",
    "percent = decimal * 100\n",
    "print(\"That's\",(percent),\"percent of the rows in this dataset that is missing information\")"
   ]
  },
  {
   "cell_type": "code",
   "execution_count": 42,
   "id": "ae5327ff-b21e-4d71-b6d9-51f7d476586d",
   "metadata": {},
   "outputs": [
    {
     "data": {
      "text/html": [
       "<div>\n",
       "<style scoped>\n",
       "    .dataframe tbody tr th:only-of-type {\n",
       "        vertical-align: middle;\n",
       "    }\n",
       "\n",
       "    .dataframe tbody tr th {\n",
       "        vertical-align: top;\n",
       "    }\n",
       "\n",
       "    .dataframe thead th {\n",
       "        text-align: right;\n",
       "    }\n",
       "</style>\n",
       "<table border=\"1\" class=\"dataframe\">\n",
       "  <thead>\n",
       "    <tr style=\"text-align: right;\">\n",
       "      <th></th>\n",
       "      <th>participant_id</th>\n",
       "      <th>first_name</th>\n",
       "      <th>last_name</th>\n",
       "      <th>email</th>\n",
       "      <th>gender</th>\n",
       "      <th>movie</th>\n",
       "      <th>genre</th>\n",
       "    </tr>\n",
       "  </thead>\n",
       "  <tbody>\n",
       "    <tr>\n",
       "      <th>0</th>\n",
       "      <td>False</td>\n",
       "      <td>False</td>\n",
       "      <td>True</td>\n",
       "      <td>True</td>\n",
       "      <td>False</td>\n",
       "      <td>False</td>\n",
       "      <td>False</td>\n",
       "    </tr>\n",
       "    <tr>\n",
       "      <th>1</th>\n",
       "      <td>False</td>\n",
       "      <td>False</td>\n",
       "      <td>True</td>\n",
       "      <td>False</td>\n",
       "      <td>True</td>\n",
       "      <td>False</td>\n",
       "      <td>False</td>\n",
       "    </tr>\n",
       "    <tr>\n",
       "      <th>2</th>\n",
       "      <td>False</td>\n",
       "      <td>False</td>\n",
       "      <td>False</td>\n",
       "      <td>True</td>\n",
       "      <td>False</td>\n",
       "      <td>False</td>\n",
       "      <td>False</td>\n",
       "    </tr>\n",
       "    <tr>\n",
       "      <th>3</th>\n",
       "      <td>False</td>\n",
       "      <td>False</td>\n",
       "      <td>False</td>\n",
       "      <td>False</td>\n",
       "      <td>False</td>\n",
       "      <td>False</td>\n",
       "      <td>False</td>\n",
       "    </tr>\n",
       "    <tr>\n",
       "      <th>4</th>\n",
       "      <td>False</td>\n",
       "      <td>False</td>\n",
       "      <td>False</td>\n",
       "      <td>False</td>\n",
       "      <td>False</td>\n",
       "      <td>False</td>\n",
       "      <td>False</td>\n",
       "    </tr>\n",
       "  </tbody>\n",
       "</table>\n",
       "</div>"
      ],
      "text/plain": [
       "   participant_id  first_name  last_name  email  gender  movie  genre\n",
       "0           False       False       True   True   False  False  False\n",
       "1           False       False       True  False    True  False  False\n",
       "2           False       False      False   True   False  False  False\n",
       "3           False       False      False  False   False  False  False\n",
       "4           False       False      False  False   False  False  False"
      ]
     },
     "execution_count": 42,
     "metadata": {},
     "output_type": "execute_result"
    }
   ],
   "source": [
    "has_NaN = survey_results.isnull()\n",
    "has_NaN.head() #True is [NULL]s"
   ]
  },
  {
   "cell_type": "code",
   "execution_count": 43,
   "id": "ce72c284-ce47-429c-9a53-640ca44c4688",
   "metadata": {},
   "outputs": [
    {
     "data": {
      "text/html": [
       "<div>\n",
       "<style scoped>\n",
       "    .dataframe tbody tr th:only-of-type {\n",
       "        vertical-align: middle;\n",
       "    }\n",
       "\n",
       "    .dataframe tbody tr th {\n",
       "        vertical-align: top;\n",
       "    }\n",
       "\n",
       "    .dataframe thead th {\n",
       "        text-align: right;\n",
       "    }\n",
       "</style>\n",
       "<table border=\"1\" class=\"dataframe\">\n",
       "  <thead>\n",
       "    <tr style=\"text-align: right;\">\n",
       "      <th></th>\n",
       "      <th>participant_id</th>\n",
       "      <th>first_name</th>\n",
       "      <th>last_name</th>\n",
       "      <th>email</th>\n",
       "      <th>gender</th>\n",
       "      <th>movie</th>\n",
       "      <th>genre</th>\n",
       "    </tr>\n",
       "  </thead>\n",
       "  <tbody>\n",
       "    <tr>\n",
       "      <th>0</th>\n",
       "      <td>1</td>\n",
       "      <td>Vernen</td>\n",
       "      <td>NaN</td>\n",
       "      <td>NaN</td>\n",
       "      <td>Male</td>\n",
       "      <td>Blue Steel</td>\n",
       "      <td>Action|Thriller</td>\n",
       "    </tr>\n",
       "    <tr>\n",
       "      <th>1</th>\n",
       "      <td>2</td>\n",
       "      <td>Dulsea</td>\n",
       "      <td>NaN</td>\n",
       "      <td>dcolvill1@tripadvisor.com</td>\n",
       "      <td>NaN</td>\n",
       "      <td>Around the World in 80 Days</td>\n",
       "      <td>Adventure|Children|Comedy</td>\n",
       "    </tr>\n",
       "    <tr>\n",
       "      <th>2</th>\n",
       "      <td>3</td>\n",
       "      <td>Kirby</td>\n",
       "      <td>Etteridge</td>\n",
       "      <td>NaN</td>\n",
       "      <td>Male</td>\n",
       "      <td>Toronto Stories</td>\n",
       "      <td>Drama</td>\n",
       "    </tr>\n",
       "    <tr>\n",
       "      <th>5</th>\n",
       "      <td>6</td>\n",
       "      <td>Bernie</td>\n",
       "      <td>Annon</td>\n",
       "      <td>NaN</td>\n",
       "      <td>Female</td>\n",
       "      <td>Heroes of Telemark, The</td>\n",
       "      <td>Action|Drama|War</td>\n",
       "    </tr>\n",
       "    <tr>\n",
       "      <th>6</th>\n",
       "      <td>7</td>\n",
       "      <td>Bil</td>\n",
       "      <td>Hallen</td>\n",
       "      <td>NaN</td>\n",
       "      <td>Male</td>\n",
       "      <td>Collector, The</td>\n",
       "      <td>NaN</td>\n",
       "    </tr>\n",
       "  </tbody>\n",
       "</table>\n",
       "</div>"
      ],
      "text/plain": [
       "   participant_id first_name  last_name                      email  gender  \\\n",
       "0               1     Vernen        NaN                        NaN    Male   \n",
       "1               2     Dulsea        NaN  dcolvill1@tripadvisor.com     NaN   \n",
       "2               3      Kirby  Etteridge                        NaN    Male   \n",
       "5               6     Bernie      Annon                        NaN  Female   \n",
       "6               7        Bil     Hallen                        NaN    Male   \n",
       "\n",
       "                         movie                      genre  \n",
       "0                   Blue Steel            Action|Thriller  \n",
       "1  Around the World in 80 Days  Adventure|Children|Comedy  \n",
       "2              Toronto Stories                      Drama  \n",
       "5     Heroes of Telemark, The            Action|Drama|War  \n",
       "6               Collector, The                        NaN  "
      ]
     },
     "execution_count": 43,
     "metadata": {},
     "output_type": "execute_result"
    }
   ],
   "source": [
    "#Nan inputs instead of True/False just to visualize \n",
    "row_has_NaN = has_NaN.any(axis=1)\n",
    "rows_with_NaN = survey_results[row_has_NaN]\n",
    "rows_with_NaN.head()"
   ]
  },
  {
   "cell_type": "code",
   "execution_count": 44,
   "id": "ade313ee-d1ad-4c54-be48-de9b574a6f02",
   "metadata": {},
   "outputs": [],
   "source": [
    "#Below is prior to loop, and figuring out code to apply w/n loop "
   ]
  },
  {
   "cell_type": "code",
   "execution_count": 45,
   "id": "918b30c2-b089-4b1c-89ac-93d1441ed317",
   "metadata": {},
   "outputs": [
    {
     "data": {
      "text/plain": [
       "False    1000\n",
       "Name: participant_id, dtype: int64"
      ]
     },
     "execution_count": 45,
     "metadata": {},
     "output_type": "execute_result"
    }
   ],
   "source": [
    "jobID_null = has_NaN.participant_id.value_counts()\n",
    "jobID_null "
   ]
  },
  {
   "cell_type": "code",
   "execution_count": 46,
   "id": "bdc97d66-f0be-4225-b260-51a44b192f55",
   "metadata": {},
   "outputs": [
    {
     "name": "stdout",
     "output_type": "stream",
     "text": [
      "There are 0 missing values out of 1001 rows under the participant_id column   \n"
     ]
    }
   ],
   "source": [
    "print(\"There are\",has_NaN.participant_id.sum(),\"missing values out of\",num_rows,\"rows under the participant_id column   \")"
   ]
  },
  {
   "cell_type": "code",
   "execution_count": 47,
   "id": "fdf708b7-55d4-40f2-9756-ad06d2b8721f",
   "metadata": {},
   "outputs": [],
   "source": [
    "#Discusshow the participant is the primary key and why that is important "
   ]
  },
  {
   "cell_type": "code",
   "execution_count": 48,
   "id": "5d2a7b4d-703d-4bcd-a2ef-e03f845ad0c8",
   "metadata": {},
   "outputs": [
    {
     "data": {
      "text/plain": [
       "False    944\n",
       "True      56\n",
       "Name: first_name, dtype: int64"
      ]
     },
     "execution_count": 48,
     "metadata": {},
     "output_type": "execute_result"
    }
   ],
   "source": [
    "first_name= has_NaN.first_name.value_counts()\n",
    "first_name"
   ]
  },
  {
   "cell_type": "code",
   "execution_count": 49,
   "id": "a2ef5668-b3d8-4126-8833-933afef76c7a",
   "metadata": {},
   "outputs": [
    {
     "data": {
      "text/plain": [
       "False    612\n",
       "True     388\n",
       "Name: last_name, dtype: int64"
      ]
     },
     "execution_count": 49,
     "metadata": {},
     "output_type": "execute_result"
    }
   ],
   "source": [
    "last_name= has_NaN.last_name.value_counts()\n",
    "last_name"
   ]
  },
  {
   "cell_type": "code",
   "execution_count": 50,
   "id": "d61e46f4-c0f1-47cf-b5c4-eb0a48b5722e",
   "metadata": {},
   "outputs": [
    {
     "data": {
      "text/plain": [
       "False    944\n",
       "True      56\n",
       "Name: first_name, dtype: int64"
      ]
     },
     "execution_count": 50,
     "metadata": {},
     "output_type": "execute_result"
    }
   ],
   "source": [
    "#Talk about easy mistakes \n",
    "last_name= has_NaN.first_name.value_counts()\n",
    "last_name"
   ]
  },
  {
   "cell_type": "code",
   "execution_count": 51,
   "id": "f555d6fe-1c09-4aa1-a160-02b82c11f788",
   "metadata": {},
   "outputs": [
    {
     "data": {
      "text/plain": [
       "56"
      ]
     },
     "execution_count": 51,
     "metadata": {},
     "output_type": "execute_result"
    }
   ],
   "source": [
    "fn_count = has_NaN.first_name.sum()\n",
    "fn_count"
   ]
  },
  {
   "cell_type": "code",
   "execution_count": 52,
   "id": "10f70d8a-5d57-4289-96f6-005c2e32f68c",
   "metadata": {},
   "outputs": [
    {
     "data": {
      "text/plain": [
       "5.594405594405594"
      ]
     },
     "execution_count": 52,
     "metadata": {},
     "output_type": "execute_result"
    }
   ],
   "source": [
    "fn_percent = float((fn_count/num_rows) * 100)\n",
    "fn_percent"
   ]
  },
  {
   "cell_type": "code",
   "execution_count": 53,
   "id": "63602dd1-92b0-4518-a85a-f00dc567baa9",
   "metadata": {},
   "outputs": [
    {
     "name": "stdout",
     "output_type": "stream",
     "text": [
      "The % of missing entries in company column is: 5.59 %, which is 56 divided by 1001\n"
     ]
    }
   ],
   "source": [
    "print(\"The % of missing entries in company column is:\",format(fn_percent,\".2f\"),\"%, which is\",fn_count,\"divided by\",num_rows)\n",
    "#acknowledge it's rather over here, but let's say....\""
   ]
  },
  {
   "cell_type": "code",
   "execution_count": 54,
   "id": "5fb4a575-8b49-4767-910c-91b3412a7e6d",
   "metadata": {},
   "outputs": [],
   "source": [
    "#Or you could do this the easy a simplar "
   ]
  },
  {
   "cell_type": "code",
   "execution_count": 55,
   "id": "05511543-f585-409b-ba71-251071d77062",
   "metadata": {},
   "outputs": [
    {
     "name": "stdout",
     "output_type": "stream",
     "text": [
      "Column Name :  participant_id\n",
      "Column Contents :  False    1000\n",
      "Name: participant_id, dtype: int64\n",
      "Missing count w/n column: participant_id is 0.0\n",
      "Column Missing Percent:  0.00 %, which is 0 divided by 1001 \n",
      "\n",
      "\n",
      "Column Name :  first_name\n",
      "Column Contents :  False    944\n",
      "True      56\n",
      "Name: first_name, dtype: int64\n",
      "Missing count w/n column: first_name is 56.0\n",
      "Column Missing Percent:  5.59 %, which is 56 divided by 1001 \n",
      "\n",
      "\n",
      "Column Name :  last_name\n",
      "Column Contents :  False    612\n",
      "True     388\n",
      "Name: last_name, dtype: int64\n",
      "Missing count w/n column: last_name is 388.0\n",
      "Column Missing Percent:  38.76 %, which is 388 divided by 1001 \n",
      "\n",
      "\n",
      "Column Name :  email\n",
      "Column Contents :  False    709\n",
      "True     291\n",
      "Name: email, dtype: int64\n",
      "Missing count w/n column: email is 291.0\n",
      "Column Missing Percent:  29.07 %, which is 291 divided by 1001 \n",
      "\n",
      "\n",
      "Column Name :  gender\n",
      "Column Contents :  False    869\n",
      "True     131\n",
      "Name: gender, dtype: int64\n",
      "Missing count w/n column: gender is 131.0\n",
      "Column Missing Percent:  13.09 %, which is 131 divided by 1001 \n",
      "\n",
      "\n",
      "Column Name :  movie\n",
      "Column Contents :  False    1000\n",
      "Name: movie, dtype: int64\n",
      "Missing count w/n column: movie is 0.0\n",
      "Column Missing Percent:  0.00 %, which is 0 divided by 1001 \n",
      "\n",
      "\n",
      "Column Name :  genre\n",
      "Column Contents :  False    812\n",
      "True     188\n",
      "Name: genre, dtype: int64\n",
      "Missing count w/n column: genre is 188.0\n",
      "Column Missing Percent:  18.78 %, which is 188 divided by 1001 \n",
      "\n",
      "\n"
     ]
    }
   ],
   "source": [
    "for column in has_NaN :\n",
    "\n",
    "    columnSeriesObj = has_NaN[column]\n",
    "    print('Column Name : ', column)\n",
    "    print('Column Contents : ', columnSeriesObj.value_counts())\n",
    "    print('Missing count w/n column:',column,'is',float((columnSeriesObj.sum())))\n",
    "    print('Column Missing Percent: ',format(float((columnSeriesObj.sum()/num_rows)* 100),\".2f\"),\"%, which is\",columnSeriesObj.sum(),\"divided by\",num_rows,\"\\n\\n\")"
   ]
  },
  {
   "cell_type": "code",
   "execution_count": 56,
   "id": "4699ea71-9118-4783-a65f-7037893e9348",
   "metadata": {},
   "outputs": [],
   "source": [
    "#How to Save as a txt file\n",
    "#make sure to upload attached "
   ]
  },
  {
   "cell_type": "code",
   "execution_count": 57,
   "id": "d60e6bf2-642d-4f58-a209-c5bb4933623d",
   "metadata": {},
   "outputs": [],
   "source": [
    "destFile = open('survey_missing_percent.txt','w')\n",
    "for column in has_NaN :\n",
    "\n",
    "    columnSeriesObj = has_NaN[column]\n",
    "    print('Column Name : ', column, file = destFile)\n",
    "    print('Column Contents : ', columnSeriesObj.value_counts(), file = destFile)\n",
    "    print('Missing count w/n column:',column,'is',float((columnSeriesObj.sum())), file = destFile)\n",
    "    print('Column Missing percent: ',format(float((columnSeriesObj.sum()/num_rows)* 100),\".2f\"),\"%, which is\",columnSeriesObj.sum(),\"divided by\",num_rows,\"\\n\\n\", file = destFile)\n",
    "destFile.close()"
   ]
  },
  {
   "cell_type": "code",
   "execution_count": 58,
   "id": "9d1e6cdf-219b-428c-be43-11254908c9c2",
   "metadata": {},
   "outputs": [],
   "source": [
    "##----------------------------------------"
   ]
  },
  {
   "cell_type": "code",
   "execution_count": 59,
   "id": "a42771c2-0905-460c-bf3c-e05985433aec",
   "metadata": {},
   "outputs": [],
   "source": [
    "app = dash.Dash(__name__)"
   ]
  },
  {
   "cell_type": "code",
   "execution_count": 60,
   "id": "578bed56-f4bd-4399-ad44-6b2f2320cb70",
   "metadata": {},
   "outputs": [],
   "source": [
    "#!conda install -c conda-forge \"datapane>=0.10.0\""
   ]
  },
  {
   "cell_type": "code",
   "execution_count": 61,
   "id": "04a22187-dce8-42d0-9fbc-b34c91d6c5b3",
   "metadata": {},
   "outputs": [],
   "source": [
    "import numpy as np\n",
    "import pandas as pd\n",
    "import matplotlib.pyplot as plt\n",
    "import plotly.graph_objects as go\n",
    "import plotly.express as px\n",
    "import plotly.io as pio\n"
   ]
  },
  {
   "cell_type": "markdown",
   "id": "1254f518-3878-47e9-b6a0-e1721eb64bf5",
   "metadata": {},
   "source": [
    "conda install -c conda-forge datapane"
   ]
  },
  {
   "cell_type": "code",
   "execution_count": 62,
   "id": "03876cb3-1bc7-498e-8836-ea068156cb3d",
   "metadata": {},
   "outputs": [],
   "source": [
    "import matplotlib.pyplot as plt\n",
    "import seaborn as sns \n",
    "pd.set_option(\"display.max_columns\",None) \n",
    "pd.set_option(\"display.max_rows\",None) \n",
    "import warnings\n",
    "warnings.filterwarnings(\"ignore\")\n",
    "from IPython.display import Image\n",
    "sns.set(style=\"darkgrid\", palette=\"pastel\", color_codes=True)\n",
    "sns.set_context(\"paper\")\n",
    "from datetime import datetime\n",
    "import datapane as dp\n",
    "import missingno as msno\n",
    "from vega_datasets import data as vds"
   ]
  },
  {
   "cell_type": "code",
   "execution_count": 63,
   "id": "4319e33d-faa0-4f04-9e43-cdc5bce80d31",
   "metadata": {},
   "outputs": [
    {
     "data": {
      "text/plain": [
       "<AxesSubplot:>"
      ]
     },
     "execution_count": 63,
     "metadata": {},
     "output_type": "execute_result"
    },
    {
     "data": {
      "image/png": "[encoded data removed]",
      "text/plain": [
       "<Figure size 432x288 with 1 Axes>"
      ]
     },
     "metadata": {},
     "output_type": "display_data"
    }
   ],
   "source": [
    "sns.heatmap(survey_results.isnull(), cbar = False)"
   ]
  },
  {
   "cell_type": "code",
   "execution_count": 64,
   "id": "2597e643-aa0c-46d0-9ac3-8e30fb284e77",
   "metadata": {},
   "outputs": [
    {
     "data": {
      "text/plain": [
       "<AxesSubplot:>"
      ]
     },
     "execution_count": 64,
     "metadata": {},
     "output_type": "execute_result"
    },
    {
     "data": {
      "image/png": "[encoded data removed]",
      "text/plain": [
       "<Figure size 1800x720 with 2 Axes>"
      ]
     },
     "metadata": {},
     "output_type": "display_data"
    }
   ],
   "source": [
    "msno.matrix(survey_results)"
   ]
  },
  {
   "cell_type": "code",
   "execution_count": 65,
   "id": "629b9347-b4d7-4964-afa1-93b21e61b849",
   "metadata": {},
   "outputs": [
    {
     "data": {
      "text/plain": [
       "<AxesSubplot:>"
      ]
     },
     "execution_count": 65,
     "metadata": {},
     "output_type": "execute_result"
    },
    {
     "data": {
      "image/png": "[encoded data removed]",
      "text/plain": [
       "<Figure size 1800x1080 with 4 Axes>"
      ]
     },
     "metadata": {},
     "output_type": "display_data"
    }
   ],
   "source": [
    "fig, ax = plt.subplots(figsize=(25, 15),nrows=1,ncols=2)\n",
    "msno.bar(survey_results,ax=ax[0], color=\"blue\")\n",
    "#White space indicates missing value"
   ]
  },
  {
   "cell_type": "code",
   "execution_count": null,
   "id": "e9e3023a-90a6-45b4-bb11-cc0d3eff0519",
   "metadata": {},
   "outputs": [],
   "source": []
  },
  {
   "cell_type": "code",
   "execution_count": null,
   "id": "0c4ffd3b-e7fc-4b7f-b1a1-54ab6bc99df8",
   "metadata": {},
   "outputs": [],
   "source": []
  }
 ],
 "metadata": {
  "kernelspec": {
   "display_name": "Python 3 (ipykernel)",
   "language": "python",
   "name": "python3"
  },
  "language_info": {
   "codemirror_mode": {
    "name": "ipython",
    "version": 3
   },
   "file_extension": ".py",
   "mimetype": "text/x-python",
   "name": "python",
   "nbconvert_exporter": "python",
   "pygments_lexer": "ipython3",
   "version": "3.8.12"
  }
 },
 "nbformat": 4,
 "nbformat_minor": 5
}
